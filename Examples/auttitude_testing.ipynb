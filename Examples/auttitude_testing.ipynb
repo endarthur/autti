{
 "cells": [
  {
   "cell_type": "code",
   "execution_count": 1,
   "metadata": {
    "collapsed": false
   },
   "outputs": [],
   "source": [
    "%matplotlib inline\n",
    "%load_ext autoreload\n",
    "%autoreload 2"
   ]
  },
  {
   "cell_type": "code",
   "execution_count": 2,
   "metadata": {
    "collapsed": true
   },
   "outputs": [],
   "source": [
    "from __future__ import print_function\n",
    "from matplotlib import pyplot as plt\n",
    "\n",
    "import numpy as np"
   ]
  },
  {
   "cell_type": "code",
   "execution_count": 3,
   "metadata": {
    "collapsed": false
   },
   "outputs": [
    {
     "name": "stdout",
     "output_type": "stream",
     "text": [
      "C:\\Users\\endar\\Documents\\projects\\current\\auttitude\\autti\n"
     ]
    }
   ],
   "source": [
    "cd .."
   ]
  },
  {
   "cell_type": "code",
   "execution_count": 4,
   "metadata": {
    "collapsed": false
   },
   "outputs": [],
   "source": [
    "import auttitude as at\n",
    "from auttitude.plot import ProjectionPlot"
   ]
  },
  {
   "cell_type": "code",
   "execution_count": 5,
   "metadata": {
    "collapsed": true
   },
   "outputs": [],
   "source": [
    "from math import radians, degrees"
   ]
  },
  {
   "cell_type": "code",
   "execution_count": 6,
   "metadata": {
    "collapsed": false
   },
   "outputs": [
    {
     "data": {
      "text/plain": [
       "array([[ 120.,   30.],\n",
       "       [  80.,   60.]])"
      ]
     },
     "execution_count": 6,
     "metadata": {},
     "output_type": "execute_result"
    }
   ],
   "source": [
    "at.sphere_plane(at.dcos_plane(((120,30), (80, 60))))"
   ]
  },
  {
   "cell_type": "code",
   "execution_count": 7,
   "metadata": {
    "collapsed": true
   },
   "outputs": [],
   "source": [
    "data_lines = at.VectorSet(at.dcos_line(((60, 45), (200, 60), (250, 15))))"
   ]
  },
  {
   "cell_type": "code",
   "execution_count": 8,
   "metadata": {
    "collapsed": false
   },
   "outputs": [
    {
     "data": {
      "image/png": "[encoded data removed]",
      "text/plain": [
       "<matplotlib.figure.Figure at 0x1d751c73a58>"
      ]
     },
     "metadata": {},
     "output_type": "display_data"
    }
   ],
   "source": [
    "fig, ax = plt.subplots(figsize=(5, 5))\n",
    "plot = ProjectionPlot(ax)\n",
    "plot.clear_diagram()\n",
    "plot.as_points(data_lines)"
   ]
  },
  {
   "cell_type": "code",
   "execution_count": null,
   "metadata": {
    "collapsed": false
   },
   "outputs": [],
   "source": [
    "x = at.Plane(at.dcos_plane((60, 45)))\n",
    "x_ = at.Line(at.dcos_rake((60, 45, 30)))\n",
    "y = at.Plane(at.dcos_plane((200, 60)))\n",
    "z = at.Plane(at.dcos_plane((135, 60)))"
   ]
  },
  {
   "cell_type": "code",
   "execution_count": null,
   "metadata": {
    "collapsed": false
   },
   "outputs": [
    {
     "data": {
      "text/plain": [
       "29.99999999999998"
      ]
     },
     "execution_count": 10,
     "metadata": {},
     "output_type": "execute_result"
    }
   ],
   "source": [
    "fig, ax = plt.subplots(figsize=(5, 5))\n",
    "plot = ProjectionPlot(ax)\n",
    "plot.clear_diagram()\n",
    "plot.as_points(x)\n",
    "plot.as_lines(x.great_circle())\n",
    "plot.as_points(x_)\n",
    "degrees(x.direction_vector.angle(x_))"
   ]
  },
  {
   "cell_type": "code",
   "execution_count": null,
   "metadata": {
    "collapsed": false
   },
   "outputs": [],
   "source": [
    "fig, ax = plt.subplots(figsize=(5, 5))\n",
    "plot = ProjectionPlot(ax)\n",
    "plot.clear_diagram()\n",
    "plot.as_points(x)\n",
    "plot.as_points(y, marker='*', ms=12, c='r')\n",
    "plot.as_points(x.rotation_matrix(30).dot(y), marker='*', ms=12, c='b')\n",
    "plot.as_lines(x.small_circle(x.angle(y)))\n",
    "plot.as_lines(x.arc(y))"
   ]
  },
  {
   "cell_type": "code",
   "execution_count": null,
   "metadata": {
    "collapsed": false
   },
   "outputs": [],
   "source": [
    "fig, ax = plt.subplots(figsize=(5, 5))\n",
    "plot = ProjectionPlot(ax)\n",
    "plot.clear_diagram()\n",
    "plot.as_points(x)\n",
    "plot.as_lines(x.great_circle())\n",
    "plot.as_points(z, marker='*', ms=12, c='r')\n",
    "plot.as_points(x.rejection_matrix.dot(z), marker='*', ms=12, c='b')\n",
    "plot.as_lines(x.intersect(z).great_circle())"
   ]
  },
  {
   "cell_type": "code",
   "execution_count": null,
   "metadata": {
    "collapsed": false
   },
   "outputs": [],
   "source": [
    "fig, ax = plt.subplots(figsize=(5, 5))\n",
    "plot = ProjectionPlot(ax)\n",
    "plot.clear_diagram()\n",
    "a_ = at.Line(at.dcos_line((0, 45)))\n",
    "b_ = at.Line(at.dcos_line((80, 60)))\n",
    "plot.as_points(a_)\n",
    "plot.as_lines(a_.small_circle(radians(30.)))\n",
    "plot.as_points(b_)\n",
    "plot.as_lines(b_.small_circle(radians(45.)))\n",
    "intersection = at.math.small_circle_intersection(a_, radians(30), b_, radians(45))\n",
    "plot.as_points(intersection)"
   ]
  },
  {
   "cell_type": "code",
   "execution_count": null,
   "metadata": {
    "collapsed": false,
    "scrolled": false
   },
   "outputs": [],
   "source": [
    "data_planes = at.PlaneSet(at.dcos_plane(((60, 60), (200, 60), (250, 15))))\n",
    "\n",
    "fig, ax = plt.subplots(figsize=(5, 5))\n",
    "plot = ProjectionPlot(ax)\n",
    "plot.clear_diagram()\n",
    "#plot.as_points(data_planes)\n",
    "plot.as_lines(data_planes.great_circle(), color='r')\n",
    "plot.as_lines(data_lines.great_circle(), color='b')\n",
    "plot.as_points(data_planes.intersect(data_lines))"
   ]
  },
  {
   "cell_type": "code",
   "execution_count": null,
   "metadata": {
    "collapsed": false
   },
   "outputs": [],
   "source": [
    "import csv\n",
    "with open(\"Examples/fractures.txt\", \"r\") as csvfile:\n",
    "    data_reader = csv.reader(csvfile, delimiter=\" \")\n",
    "    translated_data = [at.translate_attitude(direction, dip, strike=True) for (direction, dip) in data_reader]\n",
    "    data_fractures = at.PlaneSet(at.dcos_plane(translated_data))\n",
    "\n",
    "fig, ax = plt.subplots(figsize=(5, 5))\n",
    "plot = ProjectionPlot(ax)\n",
    "plot.clear_diagram()\n",
    "plot.as_points(data_fractures)"
   ]
  },
  {
   "cell_type": "code",
   "execution_count": null,
   "metadata": {
    "collapsed": false
   },
   "outputs": [],
   "source": [
    "data = at.PlaneSet(at.dcos_plane(np.loadtxt(\"Examples/tocher.txt\")))\n",
    "\n",
    "fig, ax = plt.subplots(figsize=(5, 5))\n",
    "plot = ProjectionPlot(ax)\n",
    "plot.clear_diagram()\n",
    "plot.as_points(data)\n",
    "plot.as_lines(data.great_circle())"
   ]
  },
  {
   "cell_type": "code",
   "execution_count": null,
   "metadata": {
    "collapsed": false
   },
   "outputs": [],
   "source": [
    "fig, ax = plt.subplots(figsize=(10, 10))\n",
    "plot = ProjectionPlot(ax, rotation=(-22, -10, 30))\n",
    "data = at.PlaneSet(at.dcos_plane(np.loadtxt(\"Examples/tocher.txt\")))\n",
    "plot.clear_diagram()\n",
    "plot.as_points(data, ms=.5)\n",
    "fit_plane = data.stats.eigenvectors[2]\n",
    "plot.as_points(fit_plane, marker='*', ms=12, c='r')\n",
    "plot.as_lines(fit_plane.great_circle(), linewidths=2, color='r')\n",
    "c = plot.as_contours(at.DEFAULT_GRID.grid, data.count_kamb(), len(data), cmap='terrain')\n",
    "plt.colorbar(c, shrink=.6, orientation='horizontal', pad=.05)"
   ]
  },
  {
   "cell_type": "code",
   "execution_count": null,
   "metadata": {
    "collapsed": false,
    "scrolled": false
   },
   "outputs": [],
   "source": [
    "from auttitude.applications import stress\n",
    "\n",
    "angelier = np.loadtxt(\"Examples/Angelier_1979.txt\", usecols=(0, 1, 2, 3), delimiter='\\t')\n",
    "angelier[:,0] += 90\n",
    "\n",
    "angelier_planes = at.PlaneSet(at.dcos_plane(angelier[:,:2]))\n",
    "angelier_lines = at.LineSet(at.dcos_line(angelier[:,2:]))\n",
    "\n",
    "stress_matrix, residuals = stress.michael(angelier_planes, angelier_lines)\n",
    "stress_directions, (s1, s2, s3) = stress.principal_stresses(stress_matrix)\n",
    "print(\"Phi=\", (s2-s3)/(s1-s3))\n",
    "\n",
    "angelier_dihedra = stress.angelier_graphical(angelier_planes, angelier_lines)\n",
    "\n",
    "fig, ax = plt.subplots(figsize=(10, 10))\n",
    "plot = ProjectionPlot(ax)\n",
    "plot.clear_diagram()\n",
    "plot.as_points(angelier_lines)\n",
    "plot.as_lines(angelier_planes.great_circle())\n",
    "plot.as_points(stress_directions[0], marker='*', ms=12, c='r') #compressive\n",
    "plot.as_points(stress_directions[1], marker='*', ms=12, c='g') #intermediate\n",
    "plot.as_points(stress_directions[2], marker='*', ms=12, c='c') #distensive\n",
    "plot.as_arrow_on_pole(angelier_planes, angelier_lines, True)\n",
    "c = plot.as_contours(at.DEFAULT_GRID.grid, angelier_dihedra, len(angelier_planes), 20, cmap='jet')\n",
    "plt.colorbar(c, shrink=.6, orientation='horizontal', pad=.05)"
   ]
  },
  {
   "cell_type": "code",
   "execution_count": null,
   "metadata": {
    "collapsed": false
   },
   "outputs": [],
   "source": [
    "dixie = np.loadtxt(\"Examples/dixie.txt\", skiprows=1, delimiter=' ')\n",
    "dixie[:, 2] *= -1\n",
    "\n",
    "dixie_planes = at.PlaneSet(at.dcos_plane(dixie[:,:2]))\n",
    "dixie_lines = at.LineSet(at.dcos_rake(dixie))\n",
    "\n",
    "stress_matrix, residuals = stress.michael(dixie_planes, dixie_lines)\n",
    "stress_directions, (s1, s2, s3) = stress.principal_stresses(stress_matrix)\n",
    "print(\"Phi=\", (s2-s3)/(s1-s3))\n",
    "\n",
    "dixie_dihedra = stress.angelier_graphical(dixie_planes, dixie_lines)\n",
    "\n",
    "fig, ax = plt.subplots(figsize=(10, 10))\n",
    "plot = ProjectionPlot(ax)\n",
    "plot.clear_diagram()\n",
    "plot.as_points(dixie_lines)\n",
    "plot.as_points(dixie_planes)\n",
    "plot.as_lines(dixie_planes.great_circle())\n",
    "plot.as_points(stress_directions[0], marker='*', ms=12, c='r') #compressive\n",
    "plot.as_points(stress_directions[1], marker='*', ms=12, c='g') #intermediate\n",
    "plot.as_points(stress_directions[2], marker='*', ms=12, c='c') #distensive\n",
    "#plot.plot_slickenlines(dixie_planes, dixie_lines, True)\n",
    "plot.as_arrow_on_pole(dixie_planes, dixie_lines, True)\n",
    "c = plot.as_contours(at.DEFAULT_GRID.grid, dixie_dihedra, len(dixie_planes), 20, cmap='jet')\n",
    "plt.colorbar(c, shrink=.6, orientation='horizontal', pad=.05)"
   ]
  },
  {
   "cell_type": "code",
   "execution_count": null,
   "metadata": {
    "collapsed": false
   },
   "outputs": [],
   "source": [
    "normal = np.loadtxt(\"Examples/normal_faults.txt\", usecols=(0, 1, 2, 3), delimiter='\\t')\n",
    "\n",
    "normal_planes = at.PlaneSet(at.dcos_plane(normal[:,:2]))\n",
    "normal_lines = at.LineSet(at.dcos_line(normal[:,2:]))\n",
    "\n",
    "stress_matrix, residuals = stress.michael(normal_planes, normal_lines)\n",
    "stress_directions, (s1, s2, s3) = stress.principal_stresses(stress_matrix)\n",
    "print(\"Phi=\", (s2-s3)/(s1-s3))\n",
    "\n",
    "normal_dihedra = stress.angelier_graphical(normal_planes, normal_lines)\n",
    "\n",
    "fig, ax = plt.subplots(figsize=(10, 10))\n",
    "plot = ProjectionPlot(ax)\n",
    "plot.clear_diagram()\n",
    "plot.as_points(normal_lines)\n",
    "plot.as_lines(normal_planes.great_circle())\n",
    "plot.as_points(stress_directions[0], marker='*', ms=12, c='r') #compressive\n",
    "plot.as_points(stress_directions[1], marker='*', ms=12, c='g') #intermediate\n",
    "plot.as_points(stress_directions[2], marker='*', ms=12, c='c') #distensive\n",
    "plot.as_arrow_on_pole(normal_planes, normal_lines, True)\n",
    "c = plot.as_contours(at.DEFAULT_GRID.grid, normal_dihedra, len(normal_planes), 20, cmap='jet')\n",
    "plt.colorbar(c, shrink=.6, orientation='horizontal', pad=.05)"
   ]
  },
  {
   "cell_type": "code",
   "execution_count": null,
   "metadata": {
    "collapsed": false
   },
   "outputs": [],
   "source": [
    "np.random.seed(0)\n",
    "fisher_data = at.stats.sample_fisher(x, 50, 500)\n",
    "print(fisher_data.stats.fisher_k)\n",
    "\n",
    "fig, ax = plt.subplots(figsize=(10, 10))\n",
    "plot = ProjectionPlot(ax)\n",
    "plot.clear_diagram()\n",
    "plot.as_points(fisher_data)\n",
    "plot.as_lines(fisher_data.great_circle())"
   ]
  },
  {
   "cell_type": "code",
   "execution_count": null,
   "metadata": {
    "collapsed": false
   },
   "outputs": [],
   "source": [
    "np.random.seed(0)\n",
    "uniform_data = at.stats.sample_uniform(500)\n",
    "\n",
    "fig, ax = plt.subplots(figsize=(10, 10))\n",
    "plot = ProjectionPlot(ax)\n",
    "plot.clear_diagram()\n",
    "plot.as_points(uniform_data)\n",
    "plot.as_lines(uniform_data.great_circle())"
   ]
  },
  {
   "cell_type": "code",
   "execution_count": null,
   "metadata": {
    "collapsed": true
   },
   "outputs": [],
   "source": [
    "#%%time\n",
    "#random_500 = at.sample.uniform_sample(500000)\n",
    "#grid_500 = random_500.count_fisher(100)\n",
    "#fig, ax = plt.subplots(figsize=(10, 10))\n",
    "#plot = ProjectionPlot(ax)\n",
    "#plot.clear_diagram()\n",
    "\n",
    "#plot.as_points(random_500.stats.eigenvectors[0], marker='*', ms=12, c='r')\n",
    "#plot.as_points(random_500.stats.eigenvectors[1], marker='*', ms=12, c='g')\n",
    "#plot.as_points(random_500.stats.eigenvectors[2], marker='*', ms=12, c='c')\n",
    "\n",
    "#c = plot.as_contours(at.DEFAULT_GRID.grid, grid_500[:,0], len(random_500), cmap='terrain')\n",
    "#plt.colorbar(c, shrink=.6, orientation='horizontal', pad=.05)"
   ]
  },
  {
   "cell_type": "code",
   "execution_count": null,
   "metadata": {
    "collapsed": false
   },
   "outputs": [],
   "source": [
    "%%time\n",
    "np.random.seed(0)\n",
    "random_500 = at.stats.sample_uniform(1000000)\n",
    "fig, ax = plt.subplots(figsize=(10, 10))\n",
    "plot = ProjectionPlot(ax)\n",
    "plot.clear_diagram()\n",
    "plot.as_points(random_500, ms=.05, rasterized=True)"
   ]
  },
  {
   "cell_type": "code",
   "execution_count": null,
   "metadata": {
    "collapsed": true
   },
   "outputs": [],
   "source": []
  }
 ],
 "metadata": {
  "kernelspec": {
   "display_name": "Python 3",
   "language": "python",
   "name": "python3"
  },
  "language_info": {
   "codemirror_mode": {
    "name": "ipython",
    "version": 3
   },
   "file_extension": ".py",
   "mimetype": "text/x-python",
   "name": "python",
   "nbconvert_exporter": "python",
   "pygments_lexer": "ipython3",
   "version": "3.6.0"
  }
 },
 "nbformat": 4,
 "nbformat_minor": 0
}
