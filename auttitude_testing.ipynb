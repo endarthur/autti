{
 "cells": [
  {
   "cell_type": "code",
   "execution_count": null,
   "metadata": {
    "collapsed": false
   },
   "outputs": [],
   "source": [
    "%matplotlib inline\n",
    "%load_ext autoreload\n",
    "%autoreload 2"
   ]
  },
  {
   "cell_type": "code",
   "execution_count": null,
   "metadata": {
    "collapsed": true
   },
   "outputs": [],
   "source": [
    "from matplotlib import pyplot as plt\n",
    "\n",
    "import numpy as np"
   ]
  },
  {
   "cell_type": "code",
   "execution_count": null,
   "metadata": {
    "collapsed": false
   },
   "outputs": [],
   "source": [
    "import auttitude as at"
   ]
  },
  {
   "cell_type": "code",
   "execution_count": null,
   "metadata": {
    "collapsed": true
   },
   "outputs": [],
   "source": [
    "from math import radians, degrees"
   ]
  },
  {
   "cell_type": "code",
   "execution_count": null,
   "metadata": {
    "collapsed": false
   },
   "outputs": [],
   "source": [
    "at.sphere_plane(at.dcos_plane(((120,30), (80, 60))))"
   ]
  },
  {
   "cell_type": "code",
   "execution_count": null,
   "metadata": {
    "collapsed": true
   },
   "outputs": [],
   "source": [
    "data_lines = at.SphericalData(at.dcos_line(((60, 45), (200, 60), (250, 15))))"
   ]
  },
  {
   "cell_type": "code",
   "execution_count": null,
   "metadata": {
    "collapsed": false
   },
   "outputs": [],
   "source": [
    "fig, ax = plt.subplots(figsize=(5, 5))\n",
    "plot = at.ProjectionPlot(ax)\n",
    "plot.clear_diagram()\n",
    "plot.plot_poles(data_lines)"
   ]
  },
  {
   "cell_type": "code",
   "execution_count": null,
   "metadata": {
    "collapsed": false
   },
   "outputs": [],
   "source": [
    "x = at.Plane(at.dcos_plane((60, 45)))\n",
    "x_ = at.Line(at.dcos_rake((60, 45, 30)))\n",
    "y = at.Plane(at.dcos_plane((200, 60)))\n",
    "z = at.Plane(at.dcos_plane((135, 60)))"
   ]
  },
  {
   "cell_type": "code",
   "execution_count": null,
   "metadata": {
    "collapsed": false
   },
   "outputs": [],
   "source": [
    "fig, ax = plt.subplots(figsize=(5, 5))\n",
    "plot = at.ProjectionPlot(ax)\n",
    "plot.clear_diagram()\n",
    "plot.plot_poles(x)\n",
    "plot.plot_circles(x.great_circle())\n",
    "plot.plot_poles(x_)\n",
    "degrees(x.direction_vector.angle(x_))"
   ]
  },
  {
   "cell_type": "code",
   "execution_count": null,
   "metadata": {
    "collapsed": false
   },
   "outputs": [],
   "source": [
    "fig, ax = plt.subplots(figsize=(5, 5))\n",
    "plot = at.ProjectionPlot(ax)\n",
    "plot.clear_diagram()\n",
    "plot.plot_poles(x)\n",
    "plot.plot_poles(y, marker='*', ms=12, c='r')\n",
    "plot.plot_poles(x.rotation_matrix(30).dot(y), marker='*', ms=12, c='b')\n",
    "plot.plot_circles(x.small_circle(x.angle(y)))\n",
    "plot.plot_circles(x.arc(y))"
   ]
  },
  {
   "cell_type": "code",
   "execution_count": null,
   "metadata": {
    "collapsed": false
   },
   "outputs": [],
   "source": [
    "fig, ax = plt.subplots(figsize=(5, 5))\n",
    "plot = at.ProjectionPlot(ax)\n",
    "plot.clear_diagram()\n",
    "plot.plot_poles(x)\n",
    "plot.plot_circles(x.great_circle())\n",
    "plot.plot_poles(z, marker='*', ms=12, c='r')\n",
    "plot.plot_poles(x.rejection_matrix.dot(z), marker='*', ms=12, c='b')\n",
    "plot.plot_circles(x.intersect(z).great_circle())"
   ]
  },
  {
   "cell_type": "code",
   "execution_count": null,
   "metadata": {
    "collapsed": true
   },
   "outputs": [],
   "source": [
    "data_planes = at.PlaneData(at.dcos_plane(((60, 60), (200, 60), (250, 15))))"
   ]
  },
  {
   "cell_type": "code",
   "execution_count": null,
   "metadata": {
    "collapsed": false,
    "scrolled": false
   },
   "outputs": [],
   "source": [
    "fig, ax = plt.subplots(figsize=(5, 5))\n",
    "plot = at.ProjectionPlot(ax)\n",
    "plot.clear_diagram()\n",
    "#plot.plot_poles(data_planes)\n",
    "plot.plot_circles(data_planes.great_circle(), color='r')\n",
    "plot.plot_circles(data_lines.great_circle(), color='b')\n",
    "plot.plot_poles(data_planes.intersection(data_lines))"
   ]
  },
  {
   "cell_type": "code",
   "execution_count": null,
   "metadata": {
    "collapsed": false
   },
   "outputs": [],
   "source": [
    "data = at.PlaneData(at.dcos_plane(np.loadtxt(\"tocher.txt\")))"
   ]
  },
  {
   "cell_type": "code",
   "execution_count": null,
   "metadata": {
    "collapsed": false
   },
   "outputs": [],
   "source": [
    "fig, ax = plt.subplots(figsize=(5, 5))\n",
    "plot = at.ProjectionPlot(ax)\n",
    "plot.clear_diagram()\n",
    "plot.plot_poles(data)\n",
    "plot.plot_circles(data.great_circle())"
   ]
  },
  {
   "cell_type": "code",
   "execution_count": null,
   "metadata": {
    "collapsed": false
   },
   "outputs": [],
   "source": [
    "fig, ax = plt.subplots(figsize=(10, 10))\n",
    "plot = at.ProjectionPlot(ax)\n",
    "data = at.PlaneData(at.dcos_plane(np.loadtxt(\"tocher.txt\")))\n",
    "plot.clear_diagram()\n",
    "plot.plot_poles(data, ms=.5)\n",
    "fit_plane = data.stats.eigenvectors[2]\n",
    "plot.plot_poles(fit_plane, marker='*', ms=12, c='r')\n",
    "plot.plot_circles(fit_plane.great_circle(), linewidths=2, color='r')\n",
    "c = plot.plot_contours(at.default_grid.grid, data.count_kamb(), len(data), cmap='terrain')\n",
    "plt.colorbar(c, shrink=.6, orientation='horizontal', pad=.05)"
   ]
  },
  {
   "cell_type": "code",
   "execution_count": null,
   "metadata": {
    "collapsed": false
   },
   "outputs": [],
   "source": [
    "fig, ax = plt.subplots(figsize=(5, 5))\n",
    "plot = at.ProjectionPlot(ax)\n",
    "plot.clear_diagram()\n",
    "a_ = at.Line(at.dcos_line((0, 45)))\n",
    "b_ = at.Line(at.dcos_line((80, 60)))\n",
    "plot.plot_poles(a_)\n",
    "plot.plot_circles(a_.small_circle(radians(30.)))\n",
    "plot.plot_poles(b_)\n",
    "plot.plot_circles(b_.small_circle(radians(45.)))\n",
    "intersection = at.small_circle_intersection(a_, radians(30), b_, radians(45))\n",
    "plot.plot_poles(intersection)"
   ]
  },
  {
   "cell_type": "code",
   "execution_count": null,
   "metadata": {
    "collapsed": false,
    "scrolled": false
   },
   "outputs": [],
   "source": [
    "angelier = np.loadtxt(\"Angelier_1979.txt\", usecols=(0, 1, 2, 3), delimiter='\\t')\n",
    "angelier[:,0] += 90\n",
    "\n",
    "angelier_planes = at.PlaneData(at.dcos_plane(angelier[:,:2]))\n",
    "angelier_lines = at.LineData(at.dcos_line(angelier[:,2:]))\n",
    "\n",
    "stress_matrix, residuals = at.stress.michael(angelier_planes, angelier_lines)\n",
    "stress_directions, (s1, s2, s3) = at.stress.principal_stresses(stress_matrix)\n",
    "print \"Phi=\", (s2-s3)/(s1-s3)\n",
    "\n",
    "angelier_dihedra = at.stress.angelier_graphical(angelier_planes, angelier_lines)\n",
    "\n",
    "fig, ax = plt.subplots(figsize=(10, 10))\n",
    "plot = at.ProjectionPlot(ax)\n",
    "plot.clear_diagram()\n",
    "plot.plot_poles(angelier_lines)\n",
    "plot.plot_circles(angelier_planes.great_circle())\n",
    "plot.plot_poles(stress_directions[0], marker='*', ms=12, c='r') #compressive\n",
    "plot.plot_poles(stress_directions[1], marker='*', ms=12, c='g') #intermediate\n",
    "plot.plot_poles(stress_directions[2], marker='*', ms=12, c='c') #distensive\n",
    "plot.plot_slip_linear(angelier_planes, angelier_lines, True)\n",
    "c = plot.plot_contours(at.default_grid.grid, angelier_dihedra, len(angelier_planes), 20, cmap='jet')\n",
    "plt.colorbar(c, shrink=.6, orientation='horizontal', pad=.05)"
   ]
  },
  {
   "cell_type": "code",
   "execution_count": null,
   "metadata": {
    "collapsed": false
   },
   "outputs": [],
   "source": [
    "dixie = np.loadtxt(\"dixie.txt\", skiprows=1, delimiter=' ')\n",
    "dixie[:, 2] *= -1\n",
    "\n",
    "dixie_planes = at.PlaneData(at.dcos_plane(dixie[:,:2]))\n",
    "dixie_lines = at.LineData(at.dcos_rake(dixie))\n",
    "\n",
    "stress_matrix, residuals = at.stress.michael(dixie_planes, dixie_lines)\n",
    "stress_directions, (s1, s2, s3) = at.stress.principal_stresses(stress_matrix)\n",
    "print \"Phi=\", (s2-s3)/(s1-s3)\n",
    "\n",
    "dixie_dihedra = at.stress.angelier_graphical(dixie_planes, dixie_lines)\n",
    "\n",
    "fig, ax = plt.subplots(figsize=(10, 10))\n",
    "plot = at.ProjectionPlot(ax)\n",
    "plot.clear_diagram()\n",
    "plot.plot_poles(dixie_lines)\n",
    "plot.plot_poles(dixie_planes)\n",
    "plot.plot_circles(dixie_planes.great_circle())\n",
    "plot.plot_poles(stress_directions[0], marker='*', ms=12, c='r') #compressive\n",
    "plot.plot_poles(stress_directions[1], marker='*', ms=12, c='g') #intermediate\n",
    "plot.plot_poles(stress_directions[2], marker='*', ms=12, c='c') #distensive\n",
    "#plot.plot_slickenlines(dixie_planes, dixie_lines, True)\n",
    "plot.plot_slip_linear(dixie_planes, dixie_lines, True)\n",
    "c = plot.plot_contours(at.default_grid.grid, dixie_dihedra, len(dixie_planes), 20, cmap='jet')\n",
    "plt.colorbar(c, shrink=.6, orientation='horizontal', pad=.05)"
   ]
  },
  {
   "cell_type": "code",
   "execution_count": null,
   "metadata": {
    "collapsed": false
   },
   "outputs": [],
   "source": [
    "normal = np.loadtxt(\"normal_faults.txt\", usecols=(0, 1, 2, 3), delimiter='\\t')\n",
    "\n",
    "normal_planes = at.PlaneData(at.dcos_plane(normal[:,:2]))\n",
    "normal_lines = at.LineData(at.dcos_line(normal[:,2:]))\n",
    "\n",
    "stress_matrix, residuals = at.stress.michael(normal_planes, normal_lines)\n",
    "stress_directions, (s1, s2, s3) = at.stress.principal_stresses(stress_matrix)\n",
    "print \"Phi=\", (s2-s3)/(s1-s3)\n",
    "\n",
    "normal_dihedra = at.stress.angelier_graphical(normal_planes, normal_lines)\n",
    "\n",
    "fig, ax = plt.subplots(figsize=(10, 10))\n",
    "plot = at.ProjectionPlot(ax)\n",
    "plot.clear_diagram()\n",
    "plot.plot_poles(normal_lines)\n",
    "plot.plot_circles(normal_planes.great_circle())\n",
    "plot.plot_poles(stress_directions[0], marker='*', ms=12, c='r') #compressive\n",
    "plot.plot_poles(stress_directions[1], marker='*', ms=12, c='g') #intermediate\n",
    "plot.plot_poles(stress_directions[2], marker='*', ms=12, c='c') #distensive\n",
    "plot.plot_slip_linear(normal_planes, normal_lines, True)\n",
    "c = plot.plot_contours(at.default_grid.grid, normal_dihedra, len(normal_planes), 20, cmap='jet')\n",
    "plt.colorbar(c, shrink=.6, orientation='horizontal', pad=.05)"
   ]
  },
  {
   "cell_type": "code",
   "execution_count": null,
   "metadata": {
    "collapsed": false
   },
   "outputs": [],
   "source": [
    "np.random.seed(0)\n",
    "fisher_data = at.sample.fisher_sample(x, 50, 500)\n",
    "print fisher_data.stats.fisher_k\n",
    "\n",
    "fig, ax = plt.subplots(figsize=(10, 10))\n",
    "plot = at.ProjectionPlot(ax)\n",
    "plot.clear_diagram()\n",
    "plot.plot_poles(fisher_data)\n",
    "plot.plot_circles(fisher_data.great_circle())"
   ]
  },
  {
   "cell_type": "code",
   "execution_count": null,
   "metadata": {
    "collapsed": false
   },
   "outputs": [],
   "source": [
    "np.random.seed(0)\n",
    "uniform_data = at.sample.uniform_sample(500)\n",
    "\n",
    "fig, ax = plt.subplots(figsize=(10, 10))\n",
    "plot = at.ProjectionPlot(ax)\n",
    "plot.clear_diagram()\n",
    "plot.plot_poles(uniform_data)\n",
    "plot.plot_circles(uniform_data.great_circle())"
   ]
  },
  {
   "cell_type": "code",
   "execution_count": null,
   "metadata": {
    "collapsed": true
   },
   "outputs": [],
   "source": [
    "#%%time\n",
    "#random_500 = at.sample.uniform_sample(500000)\n",
    "#grid_500 = random_500.count_fisher(100)\n",
    "#fig, ax = plt.subplots(figsize=(10, 10))\n",
    "#plot = at.ProjectionPlot(ax)\n",
    "#plot.clear_diagram()\n",
    "\n",
    "#plot.plot_poles(random_500.stats.eigenvectors[0], marker='*', ms=12, c='r')\n",
    "#plot.plot_poles(random_500.stats.eigenvectors[1], marker='*', ms=12, c='g')\n",
    "#plot.plot_poles(random_500.stats.eigenvectors[2], marker='*', ms=12, c='c')\n",
    "\n",
    "#c = plot.plot_contours(at.default_grid.grid, grid_500[:,0], len(random_500), cmap='terrain')\n",
    "#plt.colorbar(c, shrink=.6, orientation='horizontal', pad=.05)"
   ]
  },
  {
   "cell_type": "code",
   "execution_count": null,
   "metadata": {
    "collapsed": false
   },
   "outputs": [],
   "source": [
    "%%time\n",
    "np.random.seed(0)\n",
    "random_500 = at.sample.uniform_sample(500000)\n",
    "fig, ax = plt.subplots(figsize=(10, 10))\n",
    "plot = at.ProjectionPlot(ax)\n",
    "plot.clear_diagram()\n",
    "plot.plot_poles(random_500, ms=.1, rasterized=True)"
   ]
  },
  {
   "cell_type": "code",
   "execution_count": null,
   "metadata": {
    "collapsed": true
   },
   "outputs": [],
   "source": []
  }
 ],
 "metadata": {
  "kernelspec": {
   "display_name": "Python 2",
   "language": "python",
   "name": "python2"
  },
  "language_info": {
   "codemirror_mode": {
    "name": "ipython",
    "version": 2
   },
   "file_extension": ".py",
   "mimetype": "text/x-python",
   "name": "python",
   "nbconvert_exporter": "python",
   "pygments_lexer": "ipython2",
   "version": "2.7.10"
  }
 },
 "nbformat": 4,
 "nbformat_minor": 0
}
